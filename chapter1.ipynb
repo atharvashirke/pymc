{
 "cells": [
  {
   "cell_type": "code",
   "execution_count": 1,
   "metadata": {},
   "outputs": [],
   "source": [
    "from scipy import stats\n",
    "import numpy as np"
   ]
  },
  {
   "cell_type": "markdown",
   "metadata": {},
   "source": [
    "Getting 1000 samples of a normal distribution. Verifying they fall within that distribution"
   ]
  },
  {
   "cell_type": "code",
   "execution_count": 14,
   "metadata": {},
   "outputs": [
    {
     "name": "stdout",
     "output_type": "stream",
     "text": [
      "Sample mean is about equal to distribution mean\n",
      "Sample standard deviation is about equal to distribition std\n",
      "Sample 95% range is close to the distribition IQR\n"
     ]
    }
   ],
   "source": [
    "mean = 0 \n",
    "sd = 1\n",
    "X = stats.norm(mean, sd)\n",
    "samples = X.rvs(100000)\n",
    "a, b = np.percentile(samples, [2.5, 97.5])\n",
    "range = b - a\n",
    "if np.isclose(np.mean(samples), mean, atol=0.01):\n",
    "    print(\"Sample mean is about equal to distribution mean\")\n",
    "if np.isclose(np.std(samples), sd, atol=0.01):\n",
    "    print(\"Sample standard deviation is about equal to distribition std\")\n",
    "if np.isclose(range , 2*1.95, atol=0.1):\n",
    "    print(\"Sample 95% range is close to the distribition IQR\")"
   ]
  },
  {
   "cell_type": "code",
   "execution_count": null,
   "metadata": {},
   "outputs": [],
   "source": []
  }
 ],
 "metadata": {
  "kernelspec": {
   "display_name": "Python 3.10.13 ('base')",
   "language": "python",
   "name": "python3"
  },
  "language_info": {
   "codemirror_mode": {
    "name": "ipython",
    "version": 3
   },
   "file_extension": ".py",
   "mimetype": "text/x-python",
   "name": "python",
   "nbconvert_exporter": "python",
   "pygments_lexer": "ipython3",
   "version": "3.10.13"
  },
  "orig_nbformat": 4,
  "vscode": {
   "interpreter": {
    "hash": "1be9e2edc1955d9fb56738b4a5cb416ade126b2879ab4f908dd72778d37a6096"
   }
  }
 },
 "nbformat": 4,
 "nbformat_minor": 2
}
